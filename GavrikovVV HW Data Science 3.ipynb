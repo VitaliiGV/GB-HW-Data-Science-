{
 "cells": [
  {
   "cell_type": "code",
   "execution_count": 38,
   "metadata": {},
   "outputs": [],
   "source": [
    "import seaborn as sns\n",
    "import numpy as np\n",
    "\n",
    "data = sns.load_dataset('tips')\n",
    "X = np.array(data['total_bill'].astype(np.int64)).reshape(-1, 1)\n",
    "y = np.array(data['tip'].astype(np.int64)).reshape(-1, 1)"
   ]
  },
  {
   "cell_type": "code",
   "execution_count": null,
   "metadata": {},
   "outputs": [],
   "source": []
  },
  {
   "cell_type": "code",
   "execution_count": 22,
   "metadata": {},
   "outputs": [
    {
     "name": "stdout",
     "output_type": "stream",
     "text": [
      "1.5918367346938775\n"
     ]
    },
    {
     "name": "stderr",
     "output_type": "stream",
     "text": [
      "D:\\anaconda\\lib\\site-packages\\sklearn\\utils\\validation.py:63: DataConversionWarning: A column-vector y was passed when a 1d array was expected. Please change the shape of y to (n_samples, ), for example using ravel().\n",
      "  return f(*args, **kwargs)\n",
      "D:\\anaconda\\lib\\site-packages\\sklearn\\linear_model\\_logistic.py:763: ConvergenceWarning: lbfgs failed to converge (status=1):\n",
      "STOP: TOTAL NO. of ITERATIONS REACHED LIMIT.\n",
      "\n",
      "Increase the number of iterations (max_iter) or scale the data as shown in:\n",
      "    https://scikit-learn.org/stable/modules/preprocessing.html\n",
      "Please also refer to the documentation for alternative solver options:\n",
      "    https://scikit-learn.org/stable/modules/linear_model.html#logistic-regression\n",
      "  n_iter_i = _check_optimize_result(\n"
     ]
    }
   ],
   "source": [
    "# Дополните код для работы программы на месте троеточия \"...\"\n",
    "\n",
    "# Импортируйте функцию train_test_split и логистическую регрессию\n",
    "# А также MSE\n",
    "from sklearn.model_selection import train_test_split\n",
    "from sklearn.linear_model import LogisticRegression\n",
    "from sklearn.metrics import mean_squared_error\n",
    "\n",
    "# Разделите данные на тренировочную и тестовые выборки, с отношением 20%\n",
    "\n",
    "X_train, X_test, y_train, y_test = train_test_split(X, y, random_state = 50, test_size = 0.2)\n",
    "\n",
    "# Инициализируйте и обучите модель на тренировочной выборке \n",
    "model = LogisticRegression(random_state = 50)\n",
    "model.fit(X_train, y_train)\n",
    "\n",
    "# Сделайте предсказание на тестовой выборке\n",
    "pred = model.predict(X_test)\n",
    "\n",
    "# Выведите среднеквадратичную ошибку предсказания\n",
    "print(mean_squared_error(pred, y_test))"
   ]
  },
  {
   "cell_type": "code",
   "execution_count": 85,
   "metadata": {},
   "outputs": [
    {
     "name": "stdout",
     "output_type": "stream",
     "text": [
      "Result [0.54478546 0.62020894 0.43913981 0.22374743 0.44441692]\n",
      "Result [0.54478546 0.62020894 0.43913981 0.22374743 0.44441692]\n",
      "Result [0.54478546 0.62020894 0.43913981 0.22374743 0.44441692]\n",
      "Result [0.54478546 0.62020894 0.43913981 0.22374743 0.44441692]\n",
      "Result [0.54478546 0.62020894 0.43913981 0.22374743 0.44441692]\n"
     ]
    }
   ],
   "source": [
    "# Импортируйте кросс-валидацию\n",
    "from sklearn.linear_model import LinearRegression\n",
    "from sklearn.model_selection import cross_validate\n",
    "from sklearn.model_selection import KFold\n",
    "\n",
    "def cross_validation(model, X, y, random_state = 10):\n",
    "    lin_reg = LinearRegression()\n",
    "cross_validation(lin_reg, X, y)\n",
    "# Инициализируйте кросс-валидацию с 5ю фолдами\n",
    "cv = cross_validate(lin_reg, X, y, cv = 5)\n",
    "kf = KFold(n_splits=5)\n",
    "for train, test in kf.split(X):\n",
    "\n",
    "# Выведите результаты кросс-валидации и среднее\n",
    "    print(\"Result\",cv['test_score'])\n",
    "  "
   ]
  },
  {
   "cell_type": "code",
   "execution_count": 86,
   "metadata": {},
   "outputs": [
    {
     "name": "stdout",
     "output_type": "stream",
     "text": [
      "Среднее отколнение: 0.45445971446095756\n"
     ]
    }
   ],
   "source": [
    "  print(\"Среднее отколнение:\", cv['test_score'].mean())"
   ]
  }
 ],
 "metadata": {
  "kernelspec": {
   "display_name": "Python 3",
   "language": "python",
   "name": "python3"
  },
  "language_info": {
   "codemirror_mode": {
    "name": "ipython",
    "version": 3
   },
   "file_extension": ".py",
   "mimetype": "text/x-python",
   "name": "python",
   "nbconvert_exporter": "python",
   "pygments_lexer": "ipython3",
   "version": "3.8.8"
  }
 },
 "nbformat": 4,
 "nbformat_minor": 4
}
